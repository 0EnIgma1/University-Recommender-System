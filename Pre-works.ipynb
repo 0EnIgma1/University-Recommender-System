{
 "cells": [
  {
   "cell_type": "code",
   "execution_count": 9,
   "id": "f110a03e",
   "metadata": {},
   "outputs": [],
   "source": [
    "import pandas as pd\n",
    "import numpy as np\n",
    "import matplotlib.pyplot as plt"
   ]
  },
  {
   "cell_type": "code",
   "execution_count": 2,
   "id": "a343a2e3",
   "metadata": {},
   "outputs": [],
   "source": [
    "df = pd.read_csv(\"engineering.csv\")"
   ]
  },
  {
   "cell_type": "code",
   "execution_count": 3,
   "id": "f8521a39",
   "metadata": {},
   "outputs": [
    {
     "name": "stdout",
     "output_type": "stream",
     "text": [
      "<class 'pandas.core.frame.DataFrame'>\n",
      "RangeIndex: 200 entries, 0 to 199\n",
      "Data columns (total 10 columns):\n",
      " #   Column        Non-Null Count  Dtype  \n",
      "---  ------        --------------  -----  \n",
      " 0   institute_id  200 non-null    object \n",
      " 1   name          200 non-null    object \n",
      " 2   tlr           200 non-null    float64\n",
      " 3   rpc           200 non-null    float64\n",
      " 4   go            200 non-null    float64\n",
      " 5   oi            200 non-null    float64\n",
      " 6   perception    200 non-null    float64\n",
      " 7   city          200 non-null    object \n",
      " 8   state         200 non-null    object \n",
      " 9   rank          200 non-null    int64  \n",
      "dtypes: float64(5), int64(1), object(4)\n",
      "memory usage: 15.8+ KB\n"
     ]
    }
   ],
   "source": [
    "df.info()"
   ]
  },
  {
   "cell_type": "code",
   "execution_count": 4,
   "id": "f1c20156",
   "metadata": {},
   "outputs": [
    {
     "data": {
      "text/plain": [
       "institute_id    200\n",
       "name            200\n",
       "tlr             200\n",
       "rpc             200\n",
       "go              200\n",
       "oi              200\n",
       "perception      200\n",
       "city            200\n",
       "state           200\n",
       "rank            200\n",
       "dtype: int64"
      ]
     },
     "execution_count": 4,
     "metadata": {},
     "output_type": "execute_result"
    }
   ],
   "source": [
    "df.count()"
   ]
  },
  {
   "cell_type": "code",
   "execution_count": 5,
   "id": "c19ef874",
   "metadata": {},
   "outputs": [
    {
     "data": {
      "text/html": [
       "<div>\n",
       "<style scoped>\n",
       "    .dataframe tbody tr th:only-of-type {\n",
       "        vertical-align: middle;\n",
       "    }\n",
       "\n",
       "    .dataframe tbody tr th {\n",
       "        vertical-align: top;\n",
       "    }\n",
       "\n",
       "    .dataframe thead th {\n",
       "        text-align: right;\n",
       "    }\n",
       "</style>\n",
       "<table border=\"1\" class=\"dataframe\">\n",
       "  <thead>\n",
       "    <tr style=\"text-align: right;\">\n",
       "      <th></th>\n",
       "      <th>institute_id</th>\n",
       "      <th>name</th>\n",
       "      <th>tlr</th>\n",
       "      <th>rpc</th>\n",
       "      <th>go</th>\n",
       "      <th>oi</th>\n",
       "      <th>perception</th>\n",
       "      <th>city</th>\n",
       "      <th>state</th>\n",
       "      <th>rank</th>\n",
       "    </tr>\n",
       "  </thead>\n",
       "  <tbody>\n",
       "    <tr>\n",
       "      <th>0</th>\n",
       "      <td>IR-E-U-0456</td>\n",
       "      <td>Indian Institute of Technology Madras</td>\n",
       "      <td>95.42</td>\n",
       "      <td>94.64</td>\n",
       "      <td>83.90</td>\n",
       "      <td>61.31</td>\n",
       "      <td>100.00</td>\n",
       "      <td>Chennai</td>\n",
       "      <td>Tamil Nadu</td>\n",
       "      <td>1</td>\n",
       "    </tr>\n",
       "    <tr>\n",
       "      <th>1</th>\n",
       "      <td>IR-E-I-1074</td>\n",
       "      <td>Indian Institute of Technology Delhi</td>\n",
       "      <td>90.79</td>\n",
       "      <td>96.15</td>\n",
       "      <td>80.36</td>\n",
       "      <td>64.81</td>\n",
       "      <td>94.46</td>\n",
       "      <td>New Delhi</td>\n",
       "      <td>Delhi</td>\n",
       "      <td>2</td>\n",
       "    </tr>\n",
       "    <tr>\n",
       "      <th>2</th>\n",
       "      <td>IR-E-U-0306</td>\n",
       "      <td>Indian Institute of Technology Bombay</td>\n",
       "      <td>91.00</td>\n",
       "      <td>93.37</td>\n",
       "      <td>77.60</td>\n",
       "      <td>49.99</td>\n",
       "      <td>92.51</td>\n",
       "      <td>Mumbai</td>\n",
       "      <td>Maharashtra</td>\n",
       "      <td>3</td>\n",
       "    </tr>\n",
       "    <tr>\n",
       "      <th>3</th>\n",
       "      <td>IR-E-I-1075</td>\n",
       "      <td>Indian Institute of Technology Kanpur</td>\n",
       "      <td>86.22</td>\n",
       "      <td>82.08</td>\n",
       "      <td>88.44</td>\n",
       "      <td>54.21</td>\n",
       "      <td>85.78</td>\n",
       "      <td>Kanpur</td>\n",
       "      <td>Uttar Pradesh</td>\n",
       "      <td>4</td>\n",
       "    </tr>\n",
       "    <tr>\n",
       "      <th>4</th>\n",
       "      <td>IR-E-U-0573</td>\n",
       "      <td>Indian Institute of Technology Kharagpur</td>\n",
       "      <td>77.32</td>\n",
       "      <td>87.11</td>\n",
       "      <td>83.21</td>\n",
       "      <td>56.62</td>\n",
       "      <td>89.31</td>\n",
       "      <td>Kharagpur</td>\n",
       "      <td>West Bengal</td>\n",
       "      <td>5</td>\n",
       "    </tr>\n",
       "  </tbody>\n",
       "</table>\n",
       "</div>"
      ],
      "text/plain": [
       "  institute_id                                      name    tlr    rpc     go  \\\n",
       "0  IR-E-U-0456     Indian Institute of Technology Madras  95.42  94.64  83.90   \n",
       "1  IR-E-I-1074      Indian Institute of Technology Delhi  90.79  96.15  80.36   \n",
       "2  IR-E-U-0306     Indian Institute of Technology Bombay  91.00  93.37  77.60   \n",
       "3  IR-E-I-1075     Indian Institute of Technology Kanpur  86.22  82.08  88.44   \n",
       "4  IR-E-U-0573  Indian Institute of Technology Kharagpur  77.32  87.11  83.21   \n",
       "\n",
       "      oi  perception       city          state  rank  \n",
       "0  61.31      100.00    Chennai     Tamil Nadu     1  \n",
       "1  64.81       94.46  New Delhi          Delhi     2  \n",
       "2  49.99       92.51     Mumbai    Maharashtra     3  \n",
       "3  54.21       85.78     Kanpur  Uttar Pradesh     4  \n",
       "4  56.62       89.31  Kharagpur    West Bengal     5  "
      ]
     },
     "execution_count": 5,
     "metadata": {},
     "output_type": "execute_result"
    }
   ],
   "source": [
    "df.head()"
   ]
  },
  {
   "cell_type": "markdown",
   "id": "e170866b",
   "metadata": {},
   "source": [
    "- tlr - Teaching, Learning & Resources\n",
    "- rpc - Research and Professional Practice\n",
    "- go - Graduation Outcome\n",
    "- oi - Outreach and Inclusivity\n",
    "- perception - Peer perception"
   ]
  },
  {
   "cell_type": "code",
   "execution_count": 8,
   "id": "ae2e4857",
   "metadata": {},
   "outputs": [
    {
     "name": "stdout",
     "output_type": "stream",
     "text": [
      "Chennai        11\n",
      "Hyderabad      11\n",
      "Bengaluru      11\n",
      "Pune            9\n",
      "Coimbatore      8\n",
      "               ..\n",
      "Belgaum         1\n",
      "Surat           1\n",
      "Jodhpur         1\n",
      "Jalandhar       1\n",
      "Navi Mumbai     1\n",
      "Name: city, Length: 116, dtype: int64\n"
     ]
    }
   ],
   "source": [
    "df[\"city\"].value_counts()"
   ]
  },
  {
   "cell_type": "code",
   "execution_count": 19,
   "id": "74a5be75",
   "metadata": {},
   "outputs": [
    {
     "name": "stdout",
     "output_type": "stream",
     "text": [
      "['Chennai' 'New Delhi' 'Mumbai' 'Kanpur' 'Kharagpur' 'Roorkee' 'Guwahati'\n",
      " 'Hyderabad' 'Tiruchirappalli' 'Indore' 'Varanasi' 'Dhanbad' 'Surathkal'\n",
      " 'Vellore' 'Rourkela' 'Kolkata' 'Warangal' 'Amritapuri' 'Shibpur'\n",
      " 'Bhubaneswar' 'Kozhikode' 'Gandhinagar' 'Rupnagar' 'Patna' 'Nagpur'\n",
      " 'Patiala' 'Pilani' 'Mandi' 'Gautam Budh Nagar' 'Thiruvananthapuram'\n",
      " 'Jaipur' 'Thanjavur' 'Ranchi' 'Aligarh' 'Kurukshetra' 'Kancheepuram'\n",
      " 'Manipal' 'Silchar' 'Durgapur' 'Allahabad' 'Coimbatore' 'Pune'\n",
      " 'Jalandhar' 'Jodhpur' 'Surat' 'Belgaum' 'Vaddeswaram' 'Bengaluru'\n",
      " 'Srivilliputtur' 'Shillong' 'Madurai' 'Bhopal' 'Raipur' 'Chandigarh'\n",
      " 'Visakhapatnam' 'Agratala' 'South West' 'Ponda' 'Katra' 'Jamshedpur'\n",
      " 'Jabalpur' 'Mohali' 'Phagwara' 'Dehradun' 'Tumkur' 'Noida' 'Kakinada'\n",
      " 'Hamirpur' 'Gwalior' 'Sivakasi' 'Agra' 'Prayagraj (Allahabad)'\n",
      " 'Kapurthala' 'Gurgaon' 'Solan' 'Vadodara' 'Bengluru' 'Guntur' 'Burla'\n",
      " 'Faridabad' 'Sonipat' 'Puducherry' 'Karaikal' 'Ahmedabad' 'Mysuru'\n",
      " 'Nitte, \\r\\nUdupi' 'Amethi' 'Perundurai' 'Dharwad' 'Longowal'\n",
      " 'Ibrahimpatan' 'Rangareddy' 'Itanagar' 'Delhi' 'Mandya' 'Salem'\n",
      " 'Tirupati' 'Thiruvallur' 'Vijayawada' 'Nadia' 'Imphal' 'Haldia'\n",
      " 'Thrissur' 'Kanpur Nagar' 'Sangli' 'Mysore' 'Cochin' 'Rajpura'\n",
      " 'Gorakhpur' 'A.Rangampet' 'Anantapur' 'Kovilpatti' 'Kurnool' 'Nadiad'\n",
      " 'Hisar' 'Navi Mumbai']\n"
     ]
    }
   ],
   "source": [
    "city_name = df['city'].unique()\n",
    "print(city_name)"
   ]
  },
  {
   "cell_type": "code",
   "execution_count": 28,
   "id": "7d98c3e8",
   "metadata": {},
   "outputs": [
    {
     "data": {
      "image/png": "[encoded data removed]",
      "text/plain": [
       "<Figure size 1800x576 with 1 Axes>"
      ]
     },
     "metadata": {
      "needs_background": "light"
     },
     "output_type": "display_data"
    }
   ],
   "source": [
    "plt.figure(figsize = (25, 8))\n",
    "city_count = df[\"city\"].value_counts()\n",
    "top_10 = city_count[0:10]\n",
    "plt.bar(top_10.index, top_10.values)\n",
    "plt.show()"
   ]
  },
  {
   "cell_type": "code",
   "execution_count": 32,
   "id": "12609319",
   "metadata": {},
   "outputs": [
    {
     "data": {
      "text/html": [
       "<div>\n",
       "<style scoped>\n",
       "    .dataframe tbody tr th:only-of-type {\n",
       "        vertical-align: middle;\n",
       "    }\n",
       "\n",
       "    .dataframe tbody tr th {\n",
       "        vertical-align: top;\n",
       "    }\n",
       "\n",
       "    .dataframe thead th {\n",
       "        text-align: right;\n",
       "    }\n",
       "</style>\n",
       "<table border=\"1\" class=\"dataframe\">\n",
       "  <thead>\n",
       "    <tr style=\"text-align: right;\">\n",
       "      <th></th>\n",
       "      <th>institute_id</th>\n",
       "      <th>name</th>\n",
       "      <th>tlr</th>\n",
       "      <th>rpc</th>\n",
       "      <th>go</th>\n",
       "      <th>oi</th>\n",
       "      <th>perception</th>\n",
       "      <th>city</th>\n",
       "      <th>state</th>\n",
       "      <th>rank</th>\n",
       "    </tr>\n",
       "  </thead>\n",
       "  <tbody>\n",
       "    <tr>\n",
       "      <th>0</th>\n",
       "      <td>IR-E-U-0456</td>\n",
       "      <td>Indian Institute of Technology Madras</td>\n",
       "      <td>95.42</td>\n",
       "      <td>94.64</td>\n",
       "      <td>83.90</td>\n",
       "      <td>61.31</td>\n",
       "      <td>100.00</td>\n",
       "      <td>Chennai</td>\n",
       "      <td>Tamil Nadu</td>\n",
       "      <td>1</td>\n",
       "    </tr>\n",
       "    <tr>\n",
       "      <th>2</th>\n",
       "      <td>IR-E-U-0306</td>\n",
       "      <td>Indian Institute of Technology Bombay</td>\n",
       "      <td>91.00</td>\n",
       "      <td>93.37</td>\n",
       "      <td>77.60</td>\n",
       "      <td>49.99</td>\n",
       "      <td>92.51</td>\n",
       "      <td>Mumbai</td>\n",
       "      <td>Maharashtra</td>\n",
       "      <td>3</td>\n",
       "    </tr>\n",
       "    <tr>\n",
       "      <th>1</th>\n",
       "      <td>IR-E-I-1074</td>\n",
       "      <td>Indian Institute of Technology Delhi</td>\n",
       "      <td>90.79</td>\n",
       "      <td>96.15</td>\n",
       "      <td>80.36</td>\n",
       "      <td>64.81</td>\n",
       "      <td>94.46</td>\n",
       "      <td>New Delhi</td>\n",
       "      <td>Delhi</td>\n",
       "      <td>2</td>\n",
       "    </tr>\n",
       "    <tr>\n",
       "      <th>3</th>\n",
       "      <td>IR-E-I-1075</td>\n",
       "      <td>Indian Institute of Technology Kanpur</td>\n",
       "      <td>86.22</td>\n",
       "      <td>82.08</td>\n",
       "      <td>88.44</td>\n",
       "      <td>54.21</td>\n",
       "      <td>85.78</td>\n",
       "      <td>Kanpur</td>\n",
       "      <td>Uttar Pradesh</td>\n",
       "      <td>4</td>\n",
       "    </tr>\n",
       "    <tr>\n",
       "      <th>23</th>\n",
       "      <td>IR-E-U-0139</td>\n",
       "      <td>Indian Institute of Technology Gandhinagar</td>\n",
       "      <td>83.76</td>\n",
       "      <td>34.55</td>\n",
       "      <td>55.15</td>\n",
       "      <td>57.90</td>\n",
       "      <td>38.26</td>\n",
       "      <td>Gandhinagar</td>\n",
       "      <td>Gujarat</td>\n",
       "      <td>24</td>\n",
       "    </tr>\n",
       "  </tbody>\n",
       "</table>\n",
       "</div>"
      ],
      "text/plain": [
       "   institute_id                                        name    tlr    rpc  \\\n",
       "0   IR-E-U-0456       Indian Institute of Technology Madras  95.42  94.64   \n",
       "2   IR-E-U-0306       Indian Institute of Technology Bombay  91.00  93.37   \n",
       "1   IR-E-I-1074        Indian Institute of Technology Delhi  90.79  96.15   \n",
       "3   IR-E-I-1075       Indian Institute of Technology Kanpur  86.22  82.08   \n",
       "23  IR-E-U-0139  Indian Institute of Technology Gandhinagar  83.76  34.55   \n",
       "\n",
       "       go     oi  perception         city          state  rank  \n",
       "0   83.90  61.31      100.00      Chennai     Tamil Nadu     1  \n",
       "2   77.60  49.99       92.51       Mumbai    Maharashtra     3  \n",
       "1   80.36  64.81       94.46    New Delhi          Delhi     2  \n",
       "3   88.44  54.21       85.78       Kanpur  Uttar Pradesh     4  \n",
       "23  55.15  57.90       38.26  Gandhinagar        Gujarat    24  "
      ]
     },
     "execution_count": 32,
     "metadata": {},
     "output_type": "execute_result"
    }
   ],
   "source": [
    "df2 = df.sort_values(by = ['tlr'], ascending = False)\n",
    "df2.head()"
   ]
  },
  {
   "cell_type": "code",
   "execution_count": 34,
   "id": "a6224013",
   "metadata": {},
   "outputs": [
    {
     "data": {
      "text/plain": [
       "0                Indian Institute of Technology Madras\n",
       "2                Indian Institute of Technology Bombay\n",
       "1                 Indian Institute of Technology Delhi\n",
       "3                Indian Institute of Technology Kanpur\n",
       "23          Indian Institute of Technology Gandhinagar\n",
       "6              Indian Institute of Technology Guwahati\n",
       "7             Indian Institute of Technology Hyderabad\n",
       "9                Indian Institute of Technology Indore\n",
       "24                Indian Institute of Technology Ropar\n",
       "32    Indian Institute of Space Science and Technology\n",
       "Name: name, dtype: object"
      ]
     },
     "execution_count": 34,
     "metadata": {},
     "output_type": "execute_result"
    }
   ],
   "source": [
    "top_tlr = df2.name[0:10]\n",
    "top_tlr"
   ]
  },
  {
   "cell_type": "code",
   "execution_count": 40,
   "id": "3a5d949c",
   "metadata": {},
   "outputs": [],
   "source": [
    "df3 = df2[df2['city']==\"Chennai\"]"
   ]
  },
  {
   "cell_type": "code",
   "execution_count": 41,
   "id": "695cb991",
   "metadata": {},
   "outputs": [
    {
     "data": {
      "text/html": [
       "<div>\n",
       "<style scoped>\n",
       "    .dataframe tbody tr th:only-of-type {\n",
       "        vertical-align: middle;\n",
       "    }\n",
       "\n",
       "    .dataframe tbody tr th {\n",
       "        vertical-align: top;\n",
       "    }\n",
       "\n",
       "    .dataframe thead th {\n",
       "        text-align: right;\n",
       "    }\n",
       "</style>\n",
       "<table border=\"1\" class=\"dataframe\">\n",
       "  <thead>\n",
       "    <tr style=\"text-align: right;\">\n",
       "      <th></th>\n",
       "      <th>institute_id</th>\n",
       "      <th>name</th>\n",
       "      <th>tlr</th>\n",
       "      <th>rpc</th>\n",
       "      <th>go</th>\n",
       "      <th>oi</th>\n",
       "      <th>perception</th>\n",
       "      <th>city</th>\n",
       "      <th>state</th>\n",
       "      <th>rank</th>\n",
       "    </tr>\n",
       "  </thead>\n",
       "  <tbody>\n",
       "    <tr>\n",
       "      <th>0</th>\n",
       "      <td>IR-E-U-0456</td>\n",
       "      <td>Indian Institute of Technology Madras</td>\n",
       "      <td>95.42</td>\n",
       "      <td>94.64</td>\n",
       "      <td>83.90</td>\n",
       "      <td>61.31</td>\n",
       "      <td>100.00</td>\n",
       "      <td>Chennai</td>\n",
       "      <td>Tamil Nadu</td>\n",
       "      <td>1</td>\n",
       "    </tr>\n",
       "    <tr>\n",
       "      <th>13</th>\n",
       "      <td>IR-E-U-0439</td>\n",
       "      <td>Anna University</td>\n",
       "      <td>64.62</td>\n",
       "      <td>54.07</td>\n",
       "      <td>61.50</td>\n",
       "      <td>51.62</td>\n",
       "      <td>68.24</td>\n",
       "      <td>Chennai</td>\n",
       "      <td>Tamil Nadu</td>\n",
       "      <td>14</td>\n",
       "    </tr>\n",
       "    <tr>\n",
       "      <th>122</th>\n",
       "      <td>IR-E-U-0445</td>\n",
       "      <td>B  S  Abdur Rahman Crescent Institute of Scien...</td>\n",
       "      <td>62.25</td>\n",
       "      <td>8.72</td>\n",
       "      <td>45.67</td>\n",
       "      <td>45.18</td>\n",
       "      <td>4.72</td>\n",
       "      <td>Chennai</td>\n",
       "      <td>Tamil Nadu</td>\n",
       "      <td>123</td>\n",
       "    </tr>\n",
       "    <tr>\n",
       "      <th>105</th>\n",
       "      <td>IR-E-C-16626</td>\n",
       "      <td>Rajalakshmi Engineering College</td>\n",
       "      <td>62.19</td>\n",
       "      <td>4.51</td>\n",
       "      <td>57.76</td>\n",
       "      <td>51.77</td>\n",
       "      <td>2.69</td>\n",
       "      <td>Chennai</td>\n",
       "      <td>Tamil Nadu</td>\n",
       "      <td>106</td>\n",
       "    </tr>\n",
       "    <tr>\n",
       "      <th>40</th>\n",
       "      <td>IR-E-U-0473</td>\n",
       "      <td>S  R  M  Institute of Science and Technology</td>\n",
       "      <td>61.27</td>\n",
       "      <td>41.96</td>\n",
       "      <td>63.57</td>\n",
       "      <td>61.06</td>\n",
       "      <td>11.55</td>\n",
       "      <td>Chennai</td>\n",
       "      <td>Tamil Nadu</td>\n",
       "      <td>41</td>\n",
       "    </tr>\n",
       "  </tbody>\n",
       "</table>\n",
       "</div>"
      ],
      "text/plain": [
       "     institute_id                                               name    tlr  \\\n",
       "0     IR-E-U-0456              Indian Institute of Technology Madras  95.42   \n",
       "13    IR-E-U-0439                                    Anna University  64.62   \n",
       "122   IR-E-U-0445  B  S  Abdur Rahman Crescent Institute of Scien...  62.25   \n",
       "105  IR-E-C-16626                    Rajalakshmi Engineering College  62.19   \n",
       "40    IR-E-U-0473       S  R  M  Institute of Science and Technology  61.27   \n",
       "\n",
       "       rpc     go     oi  perception     city       state  rank  \n",
       "0    94.64  83.90  61.31      100.00  Chennai  Tamil Nadu     1  \n",
       "13   54.07  61.50  51.62       68.24  Chennai  Tamil Nadu    14  \n",
       "122   8.72  45.67  45.18        4.72  Chennai  Tamil Nadu   123  \n",
       "105   4.51  57.76  51.77        2.69  Chennai  Tamil Nadu   106  \n",
       "40   41.96  63.57  61.06       11.55  Chennai  Tamil Nadu    41  "
      ]
     },
     "execution_count": 41,
     "metadata": {},
     "output_type": "execute_result"
    }
   ],
   "source": [
    "df3.head()"
   ]
  },
  {
   "cell_type": "code",
   "execution_count": 42,
   "id": "7c5af0ee",
   "metadata": {},
   "outputs": [],
   "source": [
    "df3 = df3.sort_values(by=['tlr'], ascending = False)\n",
    "top_name = df3.name[0:10]\n",
    "top_tlr = df3.tlr[0:10]"
   ]
  },
  {
   "cell_type": "code",
   "execution_count": 43,
   "id": "3ba8c56b",
   "metadata": {},
   "outputs": [
    {
     "data": {
      "text/plain": [
       "0                  Indian Institute of Technology Madras\n",
       "13                                       Anna University\n",
       "122    B  S  Abdur Rahman Crescent Institute of Scien...\n",
       "105                      Rajalakshmi Engineering College\n",
       "40          S  R  M  Institute of Science and Technology\n",
       "106    Hindustan Institute of Technology  and Science...\n",
       "50        Sathyabama Institute of Science and Technology\n",
       "94     Vel Tech Rangarajan Dr  Sagunthala R   D Insti...\n",
       "148    Saveetha Institute of Medical and Technical Sc...\n",
       "191                  Sri Sai Ram Institute of Technology\n",
       "Name: name, dtype: object"
      ]
     },
     "execution_count": 43,
     "metadata": {},
     "output_type": "execute_result"
    }
   ],
   "source": [
    "top_name"
   ]
  },
  {
   "cell_type": "code",
   "execution_count": 48,
   "id": "4938f20f",
   "metadata": {},
   "outputs": [
    {
     "data": {
      "image/png": "[encoded data removed]",
      "text/plain": [
       "<Figure size 1800x576 with 1 Axes>"
      ]
     },
     "metadata": {
      "needs_background": "light"
     },
     "output_type": "display_data"
    }
   ],
   "source": [
    "plt.figure(figsize=(25,8))\n",
    "plt.bar(top_name, top_tlr)\n",
    "plt.xticks(rotation = 70)\n",
    "plt.show()"
   ]
  },
  {
   "cell_type": "code",
   "execution_count": 50,
   "id": "4ce06f75",
   "metadata": {},
   "outputs": [
    {
     "data": {
      "text/plain": [
       "<AxesSubplot:>"
      ]
     },
     "execution_count": 50,
     "metadata": {},
     "output_type": "execute_result"
    },
    {
     "data": {
      "image/png": "[encoded data removed]",
      "text/plain": [
       "<Figure size 432x288 with 1 Axes>"
      ]
     },
     "metadata": {
      "needs_background": "light"
     },
     "output_type": "display_data"
    }
   ],
   "source": [
    "df.boxplot()"
   ]
  },
  {
   "cell_type": "code",
   "execution_count": null,
   "id": "2bbca826",
   "metadata": {},
   "outputs": [],
   "source": []
  },
  {
   "cell_type": "code",
   "execution_count": null,
   "id": "6ace2372",
   "metadata": {},
   "outputs": [],
   "source": []
  }
 ],
 "metadata": {
  "kernelspec": {
   "display_name": "Python 3 (ipykernel)",
   "language": "python",
   "name": "python3"
  },
  "language_info": {
   "codemirror_mode": {
    "name": "ipython",
    "version": 3
   },
   "file_extension": ".py",
   "mimetype": "text/x-python",
   "name": "python",
   "nbconvert_exporter": "python",
   "pygments_lexer": "ipython3",
   "version": "3.9.7"
  }
 },
 "nbformat": 4,
 "nbformat_minor": 5
}
